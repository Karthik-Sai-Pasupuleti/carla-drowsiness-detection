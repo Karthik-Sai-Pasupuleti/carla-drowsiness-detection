{
 "cells": [
  {
   "cell_type": "code",
   "execution_count": null,
   "id": "43340eb0",
   "metadata": {},
   "outputs": [],
   "source": []
  },
  {
   "cell_type": "code",
   "execution_count": 6,
   "id": "e3e4620b",
   "metadata": {},
   "outputs": [],
   "source": [
    "\"\"\"_summary_\"\"\"\n",
    "\n",
    "import sys\n",
    "from pathlib import Path\n",
    "\n",
    "sys.path.append(str(Path(r\"C:\\Users\\pasupuleti\\Desktop\\carla-drowsiness-detection\\examples\\test.ipynb\").parent.parent.resolve()))\n",
    "\n",
    "from src.Driver_assistance_bot.utils import load_toml, load_json\n",
    "from src.Driver_assistance_bot.tools import vibrate_steering_wheel, voice_alert\n",
    "from src.Driver_assistance_bot.bot import Bot, BaseBot\n",
    "\n",
    "\n",
    "# Create bot instance at module load\n",
    "prompt_file = Path(r\"C:\\Users\\pasupuleti\\Desktop\\carla-drowsiness-detection\\src\\Driver_assistance_bot\\configs\\prompt.toml\")\n",
    "schema_file = Path(r\"C:\\Users\\pasupuleti\\Desktop\\carla-drowsiness-detection\\src\\Driver_assistance_bot\\configs\\schema.json\")\n",
    "\n",
    "prompt_cfg = load_toml(prompt_file)\n",
    "schema_cfg = load_json(schema_file)  # Uncomment if schema mode is needed\n",
    "\n",
    "MODEL_ID = \"llama3.1:8b-instruct-q8_0\"\n",
    "\n",
    "config = Bot.BotConfig(\n",
    "    model_id=MODEL_ID,\n",
    "    system_prompt=prompt_cfg[\"SYSTEM\"],\n",
    "    user_prompt=prompt_cfg[\"USER\"],\n",
    "    output_schema=schema_cfg,  # or schema_cfg if structured mode\n",
    "    tools=[voice_alert, vibrate_steering_wheel],\n",
    "    temperature=0.1,\n",
    ")\n",
    "\n",
    "bot_instance = BaseBot(config=config)\n",
    "\n",
    "\n",
    "def main(telemetry: dict):\n",
    "    \"\"\"\n",
    "    Entry point for invoking the bot with telemetry input and executing tool calls.\n",
    "    \"\"\"\n",
    "\n",
    "    response = bot_instance.invoke(Bot.Input(**telemetry))\n",
    "\n",
    "    return response\n",
    "\n",
    "\n",
    "\n",
    "    # for tool_call in response_.tool_calls:\n",
    "    #     print(\"Executing tool:\", tool_call.name)"
   ]
  },
  {
   "cell_type": "code",
   "execution_count": 7,
   "id": "162ee3b8",
   "metadata": {},
   "outputs": [
    {
     "name": "stderr",
     "output_type": "stream",
     "text": [
      "INFO:httpx:HTTP Request: POST http://127.0.0.1:11434/api/chat \"HTTP/1.1 200 OK\"\n"
     ]
    },
    {
     "name": "stdout",
     "output_type": "stream",
     "text": [
      "drowsiness_level: High\n",
      "reasoning: The driver's PERCLOS is high (0.8), blink rate is low (12.0), yawn frequency is moderate (5.0), steering entropy is low (0.6), and steering reversal rate is high (10.0). These metrics indicate a high level of drowsiness.\n",
      "tool_calls: [ToolCall(name='voice_alert', args={'text': 'Alert: You are experiencing high levels of drowsiness. Please pull over to a safe location and take a break.'}, description='Alert the driver via text-to-speech.'), ToolCall(name='vibrate_steering_wheel', args={'duration': 2, 'intensity': 30}, description='Vibrate the steering wheel to alert the driver.')]\n"
     ]
    }
   ],
   "source": [
    "\n",
    "sample_input = {\n",
    "    \"perclos\": 0.8,\n",
    "    \"blink_rate\": 12,\n",
    "    \"yawn_freq\": 5,\n",
    "    \"sdlp\": 0.8,\n",
    "    \"steering_entropy\": 0.6,\n",
    "    \"steering_reversal_rate\": 10,\n",
    "}\n",
    "response_ = main(sample_input)\n",
    "print(\"drowsiness_level:\", response_.drowsiness_level)\n",
    "print(\"reasoning:\", response_.reasoning)\n",
    "print(\"tool_calls:\", response_.tool_calls)"
   ]
  },
  {
   "cell_type": "code",
   "execution_count": 10,
   "id": "bd724e7c",
   "metadata": {},
   "outputs": [
    {
     "data": {
      "text/plain": [
       "'voice_alert'"
      ]
     },
     "execution_count": 10,
     "metadata": {},
     "output_type": "execute_result"
    }
   ],
   "source": [
    "response_.tool_calls[0].name"
   ]
  },
  {
   "cell_type": "code",
   "execution_count": null,
   "id": "0ffd93e4",
   "metadata": {},
   "outputs": [],
   "source": []
  }
 ],
 "metadata": {
  "kernelspec": {
   "display_name": ".venv",
   "language": "python",
   "name": "python3"
  },
  "language_info": {
   "codemirror_mode": {
    "name": "ipython",
    "version": 3
   },
   "file_extension": ".py",
   "mimetype": "text/x-python",
   "name": "python",
   "nbconvert_exporter": "python",
   "pygments_lexer": "ipython3",
   "version": "3.12.0"
  }
 },
 "nbformat": 4,
 "nbformat_minor": 5
}
