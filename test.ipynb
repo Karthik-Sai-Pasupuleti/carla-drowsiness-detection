{
 "cells": [
  {
   "cell_type": "code",
   "execution_count": 2,
   "id": "64384756",
   "metadata": {},
   "outputs": [],
   "source": [
    "import evdev"
   ]
  },
  {
   "cell_type": "code",
   "execution_count": 3,
   "id": "b2f7bd2d",
   "metadata": {},
   "outputs": [],
   "source": [
    "devices = [evdev.InputDevice(path) for path in evdev.list_devices()]"
   ]
  },
  {
   "cell_type": "code",
   "execution_count": 4,
   "id": "c3519e8d",
   "metadata": {},
   "outputs": [
    {
     "data": {
      "text/plain": [
       "[InputDevice('/dev/input/event14'), InputDevice('/dev/input/event7')]"
      ]
     },
     "execution_count": 4,
     "metadata": {},
     "output_type": "execute_result"
    }
   ],
   "source": [
    "devices"
   ]
  },
  {
   "cell_type": "code",
   "execution_count": 5,
   "id": "bb7a445d",
   "metadata": {},
   "outputs": [
    {
     "name": "stdout",
     "output_type": "stream",
     "text": [
      "/dev/input/event14 Logitech G29 Driving Force Racing Wheel usb-0000:00:14.0-2/input0\n",
      "/dev/input/event7 LiteOn Lenovo Calliope USB Keyboard Consumer Control usb-0000:00:14.0-3/input1\n"
     ]
    }
   ],
   "source": [
    "for device in devices:\n",
    "    print(device.path, device.name, device.phys)"
   ]
  },
  {
   "cell_type": "code",
   "execution_count": 44,
   "id": "6160ca31",
   "metadata": {},
   "outputs": [],
   "source": [
    "import evdev\n",
    "from evdev import ecodes, InputDevice\n",
    "\n",
    "device = evdev.list_devices()[0]\n",
    "evtdev = InputDevice(device)\n",
    "val = 65535  # val \\in [0,65535]\n",
    "evtdev.write(ecodes.EV_FF, ecodes.FF_SPRING, val)"
   ]
  },
  {
   "cell_type": "code",
   "execution_count": 7,
   "id": "efc0bad9",
   "metadata": {},
   "outputs": [],
   "source": [
    "import time\n",
    "import evdev\n",
    "from evdev import ecodes, ff, InputDevice\n",
    "\n",
    "device = evdev.list_devices()[0]\n",
    "evtdev = InputDevice(device)"
   ]
  },
  {
   "cell_type": "code",
   "execution_count": null,
   "id": "d1640b8a",
   "metadata": {},
   "outputs": [],
   "source": []
  }
 ],
 "metadata": {
  "kernelspec": {
   "display_name": ".venv",
   "language": "python",
   "name": "python3"
  },
  "language_info": {
   "codemirror_mode": {
    "name": "ipython",
    "version": 3
   },
   "file_extension": ".py",
   "mimetype": "text/x-python",
   "name": "python",
   "nbconvert_exporter": "python",
   "pygments_lexer": "ipython3",
   "version": "3.10.12"
  }
 },
 "nbformat": 4,
 "nbformat_minor": 5
}
