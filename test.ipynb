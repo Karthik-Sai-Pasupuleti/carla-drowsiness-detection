{
 "cells": [
  {
   "cell_type": "code",
   "execution_count": 1,
   "id": "472f5932",
   "metadata": {},
   "outputs": [],
   "source": [
    "from typing import List, Dict, Any, Optional, Sequence, Callable, Literal\n",
    "from pydantic import BaseModel, Field, StrictFloat\n",
    "\n",
    "from langchain_core.prompts import ChatPromptTemplate\n",
    "from langchain_core.tools import tool\n",
    "from langchain_ollama import ChatOllama\n",
    "\n",
    "from langgraph.prebuilt import ToolNode\n",
    "from langgraph.graph import StateGraph, MessagesState, START, END\n",
    "\n",
    "from typing import List, Dict, Any, Optional, Sequence, Callable, Literal\n",
    "from pydantic import BaseModel, Field, StrictFloat\n",
    "\n",
    "from langchain_core.prompts import ChatPromptTemplate\n",
    "from langchain_core.tools import tool\n",
    "from langchain_ollama import ChatOllama\n",
    "\n",
    "from langgraph.prebuilt import ToolNode\n",
    "from langgraph.graph import StateGraph, MessagesState, START, END"
   ]
  },
  {
   "cell_type": "code",
   "execution_count": 2,
   "id": "1855b31f",
   "metadata": {},
   "outputs": [],
   "source": [
    "import sys\n",
    "sys.path.append(r\"C:\\Users\\pasupuleti\\Desktop\\carla-drowsiness-detection\")  # to import from parent directory"
   ]
  },
  {
   "cell_type": "code",
   "execution_count": 3,
   "id": "3735a623",
   "metadata": {},
   "outputs": [
    {
     "name": "stdout",
     "output_type": "stream",
     "text": [
      "Failed to initialize Logitech G29 device logitech_raw. Vibration will not work.  Error: [Errno 2] No such file or directory: '/dev/logitech_raw'\n"
     ]
    }
   ],
   "source": [
    "\"\"\"_summary_\"\"\"\n",
    "\n",
    "import asyncio\n",
    "import time\n",
    "import logging\n",
    "import threading\n",
    "from pydantic import BaseModel, Field\n",
    "from langchain.tools import tool\n",
    "from src.Driver_assistance_bot.controls import VoiceControl, WheelControlVibration\n",
    "\n",
    "voice = VoiceControl()\n",
    "steering = WheelControlVibration()\n",
    "\n",
    "# configure logging once at the start of your program\n",
    "logging.basicConfig(\n",
    "    level=logging.INFO, format=\"%(asctime)s [%(levelname)s] %(message)s\"\n",
    ")\n",
    "\n",
    "\n",
    "\n",
    "# ---------------- Vibrate Steering ----------------\n",
    "class VibrateSteeringSchema(BaseModel):\n",
    "    duration: float = Field(..., gt=0, le=3, description=\"Duration in seconds\")\n",
    "    intensity: int = Field(..., ge=0, le=60, description=\"Vibration intensity\")\n",
    "\n",
    "\n",
    "class VoiceAlertSchema(BaseModel):\n",
    "    text: str = Field(..., description=\"Text to speak\")\n",
    "\n",
    "\n",
    "\n",
    "\n",
    "\n",
    "@tool(args_schema=VoiceAlertSchema)\n",
    "async def voice_alert(text: str) -> str:\n",
    "    \"\"\"Alert the driver via text-to-speech asynchronously.\"\"\"\n",
    "    try:\n",
    "        await voice.text_to_speech(text)\n",
    "        return f\"Voice alert completed: '{text}'\"\n",
    "    except Exception as e:\n",
    "        logging.error(f\"[Voice Alert Error] {e}\")\n",
    "        return f\"Error: {e}\"\n",
    "\n",
    "\n",
    "@tool(args_schema=VibrateSteeringSchema)\n",
    "async def vibrate_steering_wheel(duration: float, intensity: int) -> str:\n",
    "    \"\"\"Vibrate the steering wheel asynchronously for the given duration and intensity.\"\"\"\n",
    "    try:\n",
    "        await steering.vibrate(duration, intensity)\n",
    "        return (\n",
    "            f\"Steering wheel vibration completed: {duration}s at intensity {intensity}\"\n",
    "        )\n",
    "    except Exception as e:\n",
    "        logging.error(f\"[Steering Wheel Error] {e}\")\n",
    "        return f\"Error: {e}\""
   ]
  },
  {
   "cell_type": "code",
   "execution_count": 4,
   "id": "383dbe34",
   "metadata": {},
   "outputs": [],
   "source": [
    "class Bot:\n",
    "    \"\"\"Schemas for Driver Assistance Bot\"\"\"\n",
    "\n",
    "    class BotConfig(BaseModel):\n",
    "        model_id: str\n",
    "        system_prompt: str\n",
    "        tools: Sequence[Callable[..., Any]] | None = None\n",
    "        temperature: float | None = None\n",
    "\n",
    "    class Input(BaseModel):\n",
    "        perclos: Optional[StrictFloat] = Field(\n",
    "            default=None, description=\"Percentage of time eyes are closed.\"\n",
    "        )\n",
    "        blink_rate: Optional[StrictFloat] = Field(\n",
    "            default=None, description=\"Number of eye blinks per minute.\"\n",
    "        )\n",
    "        yawn_freq: Optional[StrictFloat] = Field(\n",
    "            default=None, description=\"Number of yawns per minute.\"\n",
    "        )\n",
    "        sdlp: Optional[StrictFloat] = Field(\n",
    "            default=None, description=\"Standard deviation of lane position (m).\"\n",
    "        )\n",
    "\n",
    "    class Output(BaseModel):\n",
    "        drowsiness_level: Literal[\"low\", \"medium\", \"high\", \"critical\"] = Field(\n",
    "            description=\"Detected drowsiness risk level.\"\n",
    "        )\n",
    "        reasoning: str = Field(\n",
    "            description=\"Explanation based on input metrics that led to the decision.\"\n",
    "        )\n",
    "        tool_calls: List[Dict[str, Any]] = Field(\n",
    "            description=\"List of tool calls executed in response to drowsiness.\"\n",
    "        )"
   ]
  },
  {
   "cell_type": "code",
   "execution_count": 5,
   "id": "bbe98db9",
   "metadata": {},
   "outputs": [],
   "source": [
    "# -------------------------------------------------------------------\n",
    "# 3. Bot implementation with simplified LangGraph\n",
    "# -------------------------------------------------------------------\n",
    "class DriverAssistanceBot(Bot):\n",
    "    def __init__(self, config: Bot.BotConfig):\n",
    "        self.config = config\n",
    "\n",
    "        # LLM model\n",
    "        self.model = ChatOllama(model=config.model_id, temperature=config.temperature)\n",
    "\n",
    "        # Bind tools\n",
    "        self.model_with_tools = self.model.bind_tools(config.tools)\n",
    "\n",
    "        # Tool node\n",
    "        self.tool_node = ToolNode(config.tools)\n",
    "\n",
    "        # Prompt template\n",
    "        self.prompt = ChatPromptTemplate.from_messages(\n",
    "            [(\"system\", config.system_prompt)]\n",
    "        )\n",
    "\n",
    "        # Build graph\n",
    "        builder = StateGraph(MessagesState)\n",
    "\n",
    "        # Model call node\n",
    "        def call_model(state: MessagesState):\n",
    "            messages = state[\"messages\"]\n",
    "            response = self.model_with_tools.invoke(messages)\n",
    "            return {\"messages\": [response]}  # avoid in-place mutation\n",
    "\n",
    "        builder.add_node(\"call_model\", call_model)\n",
    "        builder.add_node(\"tools\", self.tool_node)\n",
    "\n",
    "        # Simple linear flow: start → model → tools → end\n",
    "        builder.add_edge(START, \"call_model\")\n",
    "        builder.add_edge(\"call_model\", \"tools\")\n",
    "        builder.add_edge(\"tools\", END)  # no loopback, graph ends after tools\n",
    "\n",
    "        self.graph = builder.compile()\n",
    "\n",
    "    def invoke(self, input_data: Bot.Input):\n",
    "        \"\"\"Invoke the driver assistance bot with structured input metrics\"\"\"\n",
    "        system_message = {\"role\": \"system\", \"content\": self.config.system_prompt}\n",
    "        user_message = {\n",
    "            \"role\": \"user\",\n",
    "            \"content\": (\n",
    "                f\"Drowsiness metrics: {input_data.dict()}.\\n\"\n",
    "                \"Assess drowsiness risk, explain reasoning, \"\n",
    "                \"and call appropriate alert tools.\"\n",
    "            ),\n",
    "        }\n",
    "\n",
    "        result = self.graph.invoke({\"messages\": [system_message, user_message]})\n",
    "        return result"
   ]
  },
  {
   "cell_type": "code",
   "execution_count": 6,
   "id": "5bef2d5b",
   "metadata": {},
   "outputs": [
    {
     "name": "stdout",
     "output_type": "stream",
     "text": [
      "\n",
      "--- Invoking Driver Assistance Bot ---\n"
     ]
    },
    {
     "name": "stderr",
     "output_type": "stream",
     "text": [
      "c:\\temp\\ipykernel_17456\\2529423747.py:47: PydanticDeprecatedSince20: The `dict` method is deprecated; use `model_dump` instead. Deprecated in Pydantic V2.0 to be removed in V3.0. See Pydantic V2 Migration Guide at https://errors.pydantic.dev/2.11/migration/\n",
      "  f\"Drowsiness metrics: {input_data.dict()}.\\n\"\n",
      "2025-08-27 10:12:50,272 [INFO] HTTP Request: POST http://127.0.0.1:11434/api/chat \"HTTP/1.1 200 OK\"\n"
     ]
    },
    {
     "name": "stdout",
     "output_type": "stream",
     "text": [
      "\n",
      "--- Bot Response ---\n",
      "{'messages': [SystemMessage(content='You are a driver assistance system. Analyze the provided drowsiness metrics and take appropriate action by using the available tools to alert the driver. A high PERCLOS value (e.g., > 0.3), high yawn count, or high SDLP indicates a serious risk. In such cases, use a high intensity steering wheel vibration AND a strong voice alert together. invoke both the tools', additional_kwargs={}, response_metadata={}, id='6a7a72ee-b095-4aa6-810c-47c8fa46f6ac'), HumanMessage(content=\"Drowsiness metrics: {'perclos': 0.9, 'blink_rate': 2.0, 'yawn_freq': 4.0, 'sdlp': 0.6}.\\nAssess drowsiness risk, explain reasoning, and call appropriate alert tools.\", additional_kwargs={}, response_metadata={}, id='0095bf83-c3fc-4768-8b70-814ef19a284b'), AIMessage(content='', additional_kwargs={}, response_metadata={'model': 'llama3.1:8b', 'created_at': '2025-08-27T08:12:53.7534742Z', 'done': True, 'done_reason': 'stop', 'total_duration': 38206414500, 'load_duration': 8591182300, 'prompt_eval_count': 373, 'prompt_eval_duration': 23184412700, 'eval_count': 55, 'eval_duration': 6426868800, 'model_name': 'llama3.1:8b'}, id='run--9222e401-a10f-4f3a-a86f-13830e00a125-0', tool_calls=[{'name': 'vibrate_steering_wheel', 'args': {'duration': 5, 'intensity': 100}, 'id': 'de75df40-ed22-4540-b149-86e307df948a', 'type': 'tool_call'}, {'name': 'voice_alert', 'args': {'text': 'Alert: Drowsy driving detected. Please take a break.'}, 'id': '810129c6-99ee-476d-9bf0-7fe7f9899229', 'type': 'tool_call'}], usage_metadata={'input_tokens': 373, 'output_tokens': 55, 'total_tokens': 428}), ToolMessage(content='Error: 2 validation errors for VibrateSteeringSchema\\nduration\\n  Input should be less than or equal to 3 [type=less_than_equal, input_value=5, input_type=int]\\n    For further information visit https://errors.pydantic.dev/2.11/v/less_than_equal\\nintensity\\n  Input should be less than or equal to 60 [type=less_than_equal, input_value=100, input_type=int]\\n    For further information visit https://errors.pydantic.dev/2.11/v/less_than_equal\\n Please fix your mistakes.', name='vibrate_steering_wheel', id='d257ca94-2568-4711-a10a-df7f5132e5e2', tool_call_id='de75df40-ed22-4540-b149-86e307df948a', status='error'), ToolMessage(content=\"Error: NotImplementedError('StructuredTool does not support sync invocation.')\\n Please fix your mistakes.\", name='voice_alert', id='9aea033c-7dca-4db7-998d-34402409273a', tool_call_id='810129c6-99ee-476d-9bf0-7fe7f9899229', status='error')]}\n"
     ]
    }
   ],
   "source": [
    "# -------------------------------------------------------------------\n",
    "# 5. Main function to run the bot\n",
    "# -------------------------------------------------------------------\n",
    "if __name__ == \"__main__\":\n",
    "    # 1. Configure the bot\n",
    "    config = Bot.BotConfig(\n",
    "        model_id=\"llama3.1:8b\",\n",
    "        temperature=0,\n",
    "        system_prompt=(\n",
    "            \"You are a driver assistance system. \"\n",
    "            \"Analyze the provided drowsiness metrics and take appropriate action \"\n",
    "            \"by using the available tools to alert the driver. \"\n",
    "            \"A high PERCLOS value (e.g., > 0.3), high yawn count, or high SDLP \"\n",
    "            \"indicates a serious risk. In such cases, use a high intensity steering wheel vibration \"\n",
    "            \"AND a strong voice alert together. \"\n",
    "            \"invoke both the tools\"\n",
    "        ),\n",
    "        tools=[voice_alert, vibrate_steering_wheel],\n",
    "    )\n",
    "\n",
    "    # 2. Initialize the bot\n",
    "    bot = DriverAssistanceBot(config)\n",
    "\n",
    "    # 3. Example driver metrics\n",
    "    metrics = Bot.Input(\n",
    "        perclos=0.9,\n",
    "        blink_rate=2,\n",
    "        yawn_freq=4,\n",
    "        sdlp=0.6,\n",
    "    )\n",
    "\n",
    "    # 4. Invoke the bot\n",
    "    print(\"\\n--- Invoking Driver Assistance Bot ---\")\n",
    "    response = bot.invoke(metrics)\n",
    "\n",
    "    # 5. Print the output\n",
    "    print(\"\\n--- Bot Response ---\")\n",
    "    print(response)"
   ]
  },
  {
   "cell_type": "code",
   "execution_count": 7,
   "id": "a4f8e0a2",
   "metadata": {},
   "outputs": [
    {
     "name": "stdout",
     "output_type": "stream",
     "text": [
      "[SystemMessage(content='You are a driver assistance system. Analyze the provided drowsiness metrics and take appropriate action by using the available tools to alert the driver. A high PERCLOS value (e.g., > 0.3), high yawn count, or high SDLP indicates a serious risk. In such cases, use a high intensity steering wheel vibration AND a strong voice alert together. invoke both the tools', additional_kwargs={}, response_metadata={}, id='6a7a72ee-b095-4aa6-810c-47c8fa46f6ac'),\n",
      " HumanMessage(content=\"Drowsiness metrics: {'perclos': 0.9, 'blink_rate': 2.0, 'yawn_freq': 4.0, 'sdlp': 0.6}.\\nAssess drowsiness risk, explain reasoning, and call appropriate alert tools.\", additional_kwargs={}, response_metadata={}, id='0095bf83-c3fc-4768-8b70-814ef19a284b'),\n",
      " AIMessage(content='', additional_kwargs={}, response_metadata={'model': 'llama3.1:8b', 'created_at': '2025-08-27T08:12:53.7534742Z', 'done': True, 'done_reason': 'stop', 'total_duration': 38206414500, 'load_duration': 8591182300, 'prompt_eval_count': 373, 'prompt_eval_duration': 23184412700, 'eval_count': 55, 'eval_duration': 6426868800, 'model_name': 'llama3.1:8b'}, id='run--9222e401-a10f-4f3a-a86f-13830e00a125-0', tool_calls=[{'name': 'vibrate_steering_wheel', 'args': {'duration': 5, 'intensity': 100}, 'id': 'de75df40-ed22-4540-b149-86e307df948a', 'type': 'tool_call'}, {'name': 'voice_alert', 'args': {'text': 'Alert: Drowsy driving detected. Please take a break.'}, 'id': '810129c6-99ee-476d-9bf0-7fe7f9899229', 'type': 'tool_call'}], usage_metadata={'input_tokens': 373, 'output_tokens': 55, 'total_tokens': 428}),\n",
      " ToolMessage(content='Error: 2 validation errors for VibrateSteeringSchema\\nduration\\n  Input should be less than or equal to 3 [type=less_than_equal, input_value=5, input_type=int]\\n    For further information visit https://errors.pydantic.dev/2.11/v/less_than_equal\\nintensity\\n  Input should be less than or equal to 60 [type=less_than_equal, input_value=100, input_type=int]\\n    For further information visit https://errors.pydantic.dev/2.11/v/less_than_equal\\n Please fix your mistakes.', name='vibrate_steering_wheel', id='d257ca94-2568-4711-a10a-df7f5132e5e2', tool_call_id='de75df40-ed22-4540-b149-86e307df948a', status='error'),\n",
      " ToolMessage(content=\"Error: NotImplementedError('StructuredTool does not support sync invocation.')\\n Please fix your mistakes.\", name='voice_alert', id='9aea033c-7dca-4db7-998d-34402409273a', tool_call_id='810129c6-99ee-476d-9bf0-7fe7f9899229', status='error')]\n"
     ]
    }
   ],
   "source": [
    "from pprint import pprint\n",
    "pprint(response[\"messages\"])"
   ]
  },
  {
   "cell_type": "code",
   "execution_count": null,
   "id": "0774dd1a",
   "metadata": {},
   "outputs": [],
   "source": []
  },
  {
   "cell_type": "code",
   "execution_count": 19,
   "id": "c6e4e615",
   "metadata": {},
   "outputs": [],
   "source": [
    "model = ChatOllama(model=config.model_id, temperature=config.temperature)"
   ]
  },
  {
   "cell_type": "code",
   "execution_count": 38,
   "id": "4af38271",
   "metadata": {},
   "outputs": [],
   "source": [
    "def get_weather(location: str):\n",
    "    \"\"\"Call to get the current weather.\"\"\"\n",
    "    if location.lower() in [\"sf\", \"san francisco\"]:\n",
    "        return \"It's 60 degrees and foggy.\"\n",
    "    else:\n",
    "        return \"It's 90 degrees and sunny.\"\n",
    "\n",
    "\n",
    "def get_touristplaces(location: str):\n",
    "    \"\"\"Call to get the current tourist places.\"\"\"\n",
    "    if location.lower() in [\"sf\", \"san francisco\"]:\n",
    "        return [\"Golden Gate Park\", \"Alcatraz Island\", \"Fisherman's Wharf\"]\n",
    "    else:\n",
    "        return [\"Central Park\", \"Statue of Liberty\", \"Metropolitan Museum of Art\"]\n",
    "\n",
    "\n",
    "model_with_tools = model.bind_tools([get_weather, get_touristplaces])"
   ]
  },
  {
   "cell_type": "code",
   "execution_count": 39,
   "id": "069f5c2c",
   "metadata": {},
   "outputs": [],
   "source": [
    "input = {\n",
    "    \"messages\": [\n",
    "        {\"role\": \"user\", \"content\": \"what's the weather and tourist places in sf?\"}\n",
    "    ]\n",
    "}"
   ]
  },
  {
   "cell_type": "code",
   "execution_count": 40,
   "id": "81933f4c",
   "metadata": {},
   "outputs": [
    {
     "name": "stderr",
     "output_type": "stream",
     "text": [
      "2025-08-27 10:28:42,570 [INFO] HTTP Request: POST http://127.0.0.1:11434/api/chat \"HTTP/1.1 200 OK\"\n"
     ]
    }
   ],
   "source": [
    "output = model_with_tools.invoke(input[\"messages\"])"
   ]
  },
  {
   "cell_type": "code",
   "execution_count": 41,
   "id": "952f9832",
   "metadata": {},
   "outputs": [],
   "source": [
    "response = {\"messages\": [output]}"
   ]
  },
  {
   "cell_type": "code",
   "execution_count": 42,
   "id": "10e91241",
   "metadata": {},
   "outputs": [
    {
     "data": {
      "text/plain": [
       "[{'name': 'get_weather',\n",
       "  'args': {'location': 'sf'},\n",
       "  'id': 'ea4290ee-3c1d-4662-8b37-c49f2a3b2a3e',\n",
       "  'type': 'tool_call'},\n",
       " {'name': 'get_touristplaces',\n",
       "  'args': {'location': 'sf'},\n",
       "  'id': '9e1867f9-c5d1-4737-8cb8-a801e6ae3a5f',\n",
       "  'type': 'tool_call'}]"
      ]
     },
     "execution_count": 42,
     "metadata": {},
     "output_type": "execute_result"
    }
   ],
   "source": [
    "response[\"messages\"][-1].tool_calls"
   ]
  },
  {
   "cell_type": "code",
   "execution_count": 43,
   "id": "c803d4ca",
   "metadata": {},
   "outputs": [],
   "source": [
    "tool_node = ToolNode([get_weather, get_touristplaces])"
   ]
  },
  {
   "cell_type": "code",
   "execution_count": 47,
   "id": "c757add2",
   "metadata": {},
   "outputs": [
    {
     "data": {
      "text/plain": [
       "{'messages': [ToolMessage(content=\"It's 60 degrees and foggy.\", name='get_weather', tool_call_id='ea4290ee-3c1d-4662-8b37-c49f2a3b2a3e'),\n",
       "  ToolMessage(content='[\"Golden Gate Park\", \"Alcatraz Island\", \"Fisherman\\'s Wharf\"]', name='get_touristplaces', tool_call_id='9e1867f9-c5d1-4737-8cb8-a801e6ae3a5f')]}"
      ]
     },
     "execution_count": 47,
     "metadata": {},
     "output_type": "execute_result"
    }
   ],
   "source": [
    "tool_output = tool_node.invoke(response)\n",
    "tool_output"
   ]
  },
  {
   "cell_type": "code",
   "execution_count": 48,
   "id": "d22b3343",
   "metadata": {},
   "outputs": [
    {
     "name": "stderr",
     "output_type": "stream",
     "text": [
      "2025-08-27 11:03:20,116 [INFO] HTTP Request: POST http://127.0.0.1:11434/api/chat \"HTTP/1.1 200 OK\"\n"
     ]
    },
    {
     "data": {
      "text/plain": [
       "AIMessage(content='Based on the weather conditions, it would be best to visit indoor attractions in San Francisco. Considering the options provided, I would recommend visiting Golden Gate Park as it has several museums and gardens that are perfect for a foggy day. The park also offers a peaceful atmosphere, which is ideal for escaping the gloomy weather.', additional_kwargs={}, response_metadata={'model': 'llama3.1:8b', 'created_at': '2025-08-27T09:03:27.3345879Z', 'done': True, 'done_reason': 'stop', 'total_duration': 21637805900, 'load_duration': 9835417000, 'prompt_eval_count': 91, 'prompt_eval_duration': 4578611500, 'eval_count': 65, 'eval_duration': 7220710900, 'model_name': 'llama3.1:8b'}, id='run--f3e78196-fe56-4c8f-aa3c-9427f5c25f05-0', usage_metadata={'input_tokens': 91, 'output_tokens': 65, 'total_tokens': 156})"
      ]
     },
     "execution_count": 48,
     "metadata": {},
     "output_type": "execute_result"
    }
   ],
   "source": [
    "model_with_tools.invoke(tool_output[\"messages\"])"
   ]
  },
  {
   "cell_type": "code",
   "execution_count": null,
   "id": "af8d6ff4",
   "metadata": {},
   "outputs": [],
   "source": [
    "from langgraph.prebuilt import ToolNode"
   ]
  },
  {
   "cell_type": "code",
   "execution_count": null,
   "id": "6cdf187f",
   "metadata": {},
   "outputs": [],
   "source": []
  }
 ],
 "metadata": {
  "kernelspec": {
   "display_name": ".venv",
   "language": "python",
   "name": "python3"
  },
  "language_info": {
   "codemirror_mode": {
    "name": "ipython",
    "version": 3
   },
   "file_extension": ".py",
   "mimetype": "text/x-python",
   "name": "python",
   "nbconvert_exporter": "python",
   "pygments_lexer": "ipython3",
   "version": "3.12.0"
  }
 },
 "nbformat": 4,
 "nbformat_minor": 5
}
