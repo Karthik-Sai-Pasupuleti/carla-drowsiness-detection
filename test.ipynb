{
 "cells": [
  {
   "cell_type": "code",
   "execution_count": 2,
   "id": "d5e71253",
   "metadata": {},
   "outputs": [
    {
     "name": "stdout",
     "output_type": "stream",
     "text": [
      "Collecting pyttsx3\n",
      "  Downloading pyttsx3-2.99-py3-none-any.whl.metadata (6.2 kB)\n",
      "Collecting comtypes (from pyttsx3)\n",
      "  Downloading comtypes-1.4.11-py3-none-any.whl.metadata (7.2 kB)\n",
      "Collecting pypiwin32 (from pyttsx3)\n",
      "  Downloading pypiwin32-223-py3-none-any.whl.metadata (236 bytes)\n",
      "Requirement already satisfied: pywin32 in c:\\users\\pasupuleti\\desktop\\carla-drowsiness-detection\\.venv\\lib\\site-packages (from pyttsx3) (311)\n",
      "Downloading pyttsx3-2.99-py3-none-any.whl (32 kB)\n",
      "Downloading comtypes-1.4.11-py3-none-any.whl (246 kB)\n",
      "Downloading pypiwin32-223-py3-none-any.whl (1.7 kB)\n",
      "Installing collected packages: pypiwin32, comtypes, pyttsx3\n",
      "\n",
      "   ------------- -------------------------- 1/3 [comtypes]\n",
      "   ------------- -------------------------- 1/3 [comtypes]\n",
      "   ------------- -------------------------- 1/3 [comtypes]\n",
      "   ------------- -------------------------- 1/3 [comtypes]\n",
      "   ------------- -------------------------- 1/3 [comtypes]\n",
      "   ------------- -------------------------- 1/3 [comtypes]\n",
      "   ------------- -------------------------- 1/3 [comtypes]\n",
      "   ------------- -------------------------- 1/3 [comtypes]\n",
      "   ------------- -------------------------- 1/3 [comtypes]\n",
      "   ------------- -------------------------- 1/3 [comtypes]\n",
      "   ------------- -------------------------- 1/3 [comtypes]\n",
      "   ------------- -------------------------- 1/3 [comtypes]\n",
      "   ------------- -------------------------- 1/3 [comtypes]\n",
      "   ------------- -------------------------- 1/3 [comtypes]\n",
      "   ------------- -------------------------- 1/3 [comtypes]\n",
      "   ------------- -------------------------- 1/3 [comtypes]\n",
      "   ------------- -------------------------- 1/3 [comtypes]\n",
      "   -------------------------- ------------- 2/3 [pyttsx3]\n",
      "   ---------------------------------------- 3/3 [pyttsx3]\n",
      "\n",
      "Successfully installed comtypes-1.4.11 pypiwin32-223 pyttsx3-2.99\n",
      "Note: you may need to restart the kernel to use updated packages.\n"
     ]
    }
   ],
   "source": [
    "pip install pyttsx3"
   ]
  },
  {
   "cell_type": "code",
   "execution_count": 1,
   "id": "84f8dd46",
   "metadata": {},
   "outputs": [
    {
     "name": "stdout",
     "output_type": "stream",
     "text": [
      "200\n",
      "1.0\n"
     ]
    }
   ],
   "source": [
    "import pyttsx3\n",
    "\n",
    "engine = pyttsx3.init()  # object creation\n",
    "\n",
    "# RATE\n",
    "rate = engine.getProperty(\"rate\")  # getting details of current speaking rate\n",
    "print(rate)  # printing current voice rate\n",
    "engine.setProperty(\"rate\", 145)  # setting up new voice rate\n",
    "\n",
    "# VOLUME\n",
    "volume = engine.getProperty(\n",
    "    \"volume\"\n",
    ")  # getting to know current volume level (min=0 and max=1)\n",
    "print(volume)  # printing current volume level\n",
    "engine.setProperty(\"volume\", 1.0)  # setting up volume level  between 0 and 1\n",
    "\n",
    "engine.say(\"Hello, how is it going!\")\n",
    "engine.say(\"My current speaking rate is \" + str(rate))\n",
    "engine.runAndWait()\n",
    "engine.stop()"
   ]
  },
  {
   "cell_type": "code",
   "execution_count": null,
   "id": "eec81164",
   "metadata": {},
   "outputs": [],
   "source": [
    "engine = pyttsx3.init()\n",
    "rate = engine.getProperty(\"rate\")\n",
    "engine.setProperty(\"rate\", 145)\n",
    "volume = engine.getProperty(\n",
    "    \"volume\"\n",
    ")  # getting to know current volume level (min=0 and max=1)\n",
    "engine.setProperty(\"volume\", 1.0)\n",
    "\n",
    "\n",
    "def text_to_speech(engine: pyttsx3, text: str, volume: float):\n",
    "    engine.setProperty(\"volume\", volume)\n",
    "    engine.say(text)\n",
    "    engine.runAndWait()\n",
    "    engine.stop()"
   ]
  },
  {
   "cell_type": "code",
   "execution_count": 1,
   "id": "8e44db69",
   "metadata": {},
   "outputs": [
    {
     "name": "stdout",
     "output_type": "stream",
     "text": [
      "Requirement already satisfied: g29py in c:\\users\\pasupuleti\\desktop\\carla-drowsiness-detection\\.venv\\lib\\site-packages (0.0.10)\n",
      "Requirement already satisfied: hid==1.0.4 in c:\\users\\pasupuleti\\desktop\\carla-drowsiness-detection\\.venv\\lib\\site-packages (from g29py) (1.0.4)\n",
      "Note: you may need to restart the kernel to use updated packages.\n"
     ]
    }
   ],
   "source": [
    "pip install g29py"
   ]
  },
  {
   "cell_type": "code",
   "execution_count": 2,
   "id": "ebca65a7",
   "metadata": {},
   "outputs": [
    {
     "ename": "ImportError",
     "evalue": "Unable to load any of the following libraries:libhidapi-hidraw.so libhidapi-hidraw.so.0 libhidapi-libusb.so libhidapi-libusb.so.0 libhidapi-iohidmanager.so libhidapi-iohidmanager.so.0 libhidapi.dylib hidapi.dll libhidapi-0.dll",
     "output_type": "error",
     "traceback": [
      "\u001b[31m---------------------------------------------------------------------------\u001b[39m",
      "\u001b[31mImportError\u001b[39m                               Traceback (most recent call last)",
      "\u001b[36mCell\u001b[39m\u001b[36m \u001b[39m\u001b[32mIn[2]\u001b[39m\u001b[32m, line 1\u001b[39m\n\u001b[32m----> \u001b[39m\u001b[32m1\u001b[39m \u001b[38;5;28;01mfrom\u001b[39;00m\u001b[38;5;250m \u001b[39m\u001b[34;01mg29py\u001b[39;00m\u001b[38;5;250m \u001b[39m\u001b[38;5;28;01mimport\u001b[39;00m G29\n\u001b[32m      3\u001b[39m g29 = G29()\n",
      "\u001b[36mFile \u001b[39m\u001b[32mc:\\Users\\pasupuleti\\Desktop\\carla-drowsiness-detection\\.venv\\Lib\\site-packages\\g29py\\__init__.py:1\u001b[39m\n\u001b[32m----> \u001b[39m\u001b[32m1\u001b[39m \u001b[38;5;28;01mfrom\u001b[39;00m\u001b[38;5;250m \u001b[39m\u001b[34;01m.\u001b[39;00m\u001b[34;01mg29\u001b[39;00m\u001b[38;5;250m \u001b[39m\u001b[38;5;28;01mimport\u001b[39;00m G29\n\u001b[32m      2\u001b[39m __version__ = \u001b[33m'\u001b[39m\u001b[33m0.0.10\u001b[39m\u001b[33m'\u001b[39m\n\u001b[32m      3\u001b[39m __all__ = [\u001b[33m'\u001b[39m\u001b[33mG29\u001b[39m\u001b[33m'\u001b[39m]\n",
      "\u001b[36mFile \u001b[39m\u001b[32mc:\\Users\\pasupuleti\\Desktop\\carla-drowsiness-detection\\.venv\\Lib\\site-packages\\g29py\\g29.py:1\u001b[39m\n\u001b[32m----> \u001b[39m\u001b[32m1\u001b[39m \u001b[38;5;28;01mimport\u001b[39;00m\u001b[38;5;250m \u001b[39m\u001b[34;01mhid\u001b[39;00m\n\u001b[32m      2\u001b[39m \u001b[38;5;28;01mimport\u001b[39;00m\u001b[38;5;250m \u001b[39m\u001b[34;01mtime\u001b[39;00m\n\u001b[32m      3\u001b[39m \u001b[38;5;28;01mimport\u001b[39;00m\u001b[38;5;250m \u001b[39m\u001b[34;01mthreading\u001b[39;00m\n",
      "\u001b[36mFile \u001b[39m\u001b[32mc:\\Users\\pasupuleti\\Desktop\\carla-drowsiness-detection\\.venv\\Lib\\site-packages\\hid\\__init__.py:30\u001b[39m\n\u001b[32m     27\u001b[39m \u001b[38;5;28;01melse\u001b[39;00m:\n\u001b[32m     28\u001b[39m     error = \u001b[33m\"\u001b[39m\u001b[33mUnable to load any of the following libraries:\u001b[39m\u001b[38;5;132;01m{}\u001b[39;00m\u001b[33m\"\u001b[39m\\\n\u001b[32m     29\u001b[39m         .format(\u001b[33m'\u001b[39m\u001b[33m \u001b[39m\u001b[33m'\u001b[39m.join(library_paths))\n\u001b[32m---> \u001b[39m\u001b[32m30\u001b[39m     \u001b[38;5;28;01mraise\u001b[39;00m \u001b[38;5;167;01mImportError\u001b[39;00m(error)\n\u001b[32m     33\u001b[39m hidapi.hid_init()\n\u001b[32m     34\u001b[39m atexit.register(hidapi.hid_exit)\n",
      "\u001b[31mImportError\u001b[39m: Unable to load any of the following libraries:libhidapi-hidraw.so libhidapi-hidraw.so.0 libhidapi-libusb.so libhidapi-libusb.so.0 libhidapi-iohidmanager.so libhidapi-iohidmanager.so.0 libhidapi.dylib hidapi.dll libhidapi-0.dll"
     ]
    }
   ],
   "source": [
    "from g29py import G29\n",
    "\n",
    "g29 = G29()"
   ]
  },
  {
   "cell_type": "code",
   "execution_count": 3,
   "id": "a9116ee4",
   "metadata": {},
   "outputs": [
    {
     "name": "stdout",
     "output_type": "stream",
     "text": [
      "Requirement already satisfied: hidapi in c:\\users\\pasupuleti\\desktop\\carla-drowsiness-detection\\.venv\\lib\\site-packages (0.14.0.post4)\n",
      "Requirement already satisfied: setuptools>=19.0 in c:\\users\\pasupuleti\\desktop\\carla-drowsiness-detection\\.venv\\lib\\site-packages (from hidapi) (80.9.0)\n",
      "Note: you may need to restart the kernel to use updated packages.\n"
     ]
    }
   ],
   "source": [
    "pip install hidapi"
   ]
  },
  {
   "cell_type": "code",
   "execution_count": 4,
   "id": "34b1fe06",
   "metadata": {},
   "outputs": [
    {
     "ename": "FileNotFoundError",
     "evalue": "Could not find module 'C:\\path\\to\\hidapi.dll' (or one of its dependencies). Try using the full path with constructor syntax.",
     "output_type": "error",
     "traceback": [
      "\u001b[31m---------------------------------------------------------------------------\u001b[39m",
      "\u001b[31mFileNotFoundError\u001b[39m                         Traceback (most recent call last)",
      "\u001b[36mCell\u001b[39m\u001b[36m \u001b[39m\u001b[32mIn[4]\u001b[39m\u001b[32m, line 3\u001b[39m\n\u001b[32m      1\u001b[39m \u001b[38;5;28;01mimport\u001b[39;00m\u001b[38;5;250m \u001b[39m\u001b[34;01mctypes\u001b[39;00m\n\u001b[32m----> \u001b[39m\u001b[32m3\u001b[39m \u001b[43mctypes\u001b[49m\u001b[43m.\u001b[49m\u001b[43mCDLL\u001b[49m\u001b[43m(\u001b[49m\u001b[33;43mr\u001b[39;49m\u001b[33;43m\"\u001b[39;49m\u001b[33;43mC:\u001b[39;49m\u001b[33;43m\\\u001b[39;49m\u001b[33;43mpath\u001b[39;49m\u001b[33;43m\\\u001b[39;49m\u001b[33;43mto\u001b[39;49m\u001b[33;43m\\\u001b[39;49m\u001b[33;43mhidapi.dll\u001b[39;49m\u001b[33;43m\"\u001b[39;49m\u001b[43m)\u001b[49m\n\u001b[32m      4\u001b[39m \u001b[38;5;28;01mimport\u001b[39;00m\u001b[38;5;250m \u001b[39m\u001b[34;01mhid\u001b[39;00m  \u001b[38;5;66;03m# Or import g29py\u001b[39;00m\n",
      "\u001b[36mFile \u001b[39m\u001b[32m~\\AppData\\Local\\Programs\\Python\\Python312\\Lib\\ctypes\\__init__.py:379\u001b[39m, in \u001b[36mCDLL.__init__\u001b[39m\u001b[34m(self, name, mode, handle, use_errno, use_last_error, winmode)\u001b[39m\n\u001b[32m    376\u001b[39m \u001b[38;5;28mself\u001b[39m._FuncPtr = _FuncPtr\n\u001b[32m    378\u001b[39m \u001b[38;5;28;01mif\u001b[39;00m handle \u001b[38;5;129;01mis\u001b[39;00m \u001b[38;5;28;01mNone\u001b[39;00m:\n\u001b[32m--> \u001b[39m\u001b[32m379\u001b[39m     \u001b[38;5;28mself\u001b[39m._handle = \u001b[43m_dlopen\u001b[49m\u001b[43m(\u001b[49m\u001b[38;5;28;43mself\u001b[39;49m\u001b[43m.\u001b[49m\u001b[43m_name\u001b[49m\u001b[43m,\u001b[49m\u001b[43m \u001b[49m\u001b[43mmode\u001b[49m\u001b[43m)\u001b[49m\n\u001b[32m    380\u001b[39m \u001b[38;5;28;01melse\u001b[39;00m:\n\u001b[32m    381\u001b[39m     \u001b[38;5;28mself\u001b[39m._handle = handle\n",
      "\u001b[31mFileNotFoundError\u001b[39m: Could not find module 'C:\\path\\to\\hidapi.dll' (or one of its dependencies). Try using the full path with constructor syntax."
     ]
    }
   ],
   "source": [
    "import ctypes\n",
    "\n",
    "ctypes.CDLL(r\"C:\\path\\to\\hidapi.dll\")\n",
    "import hid  # Or import g29py"
   ]
  },
  {
   "cell_type": "code",
   "execution_count": 9,
   "id": "49b29b10",
   "metadata": {},
   "outputs": [
    {
     "name": "stdout",
     "output_type": "stream",
     "text": [
      "Requirement already satisfied: logidrivepy in c:\\users\\pasupuleti\\desktop\\carla-drowsiness-detection\\.venv\\lib\\site-packages (0.2.0)\n",
      "Note: you may need to restart the kernel to use updated packages.\n"
     ]
    }
   ],
   "source": [
    "pip install logidrivepy"
   ]
  },
  {
   "cell_type": "code",
   "execution_count": 11,
   "id": "49e741cc",
   "metadata": {},
   "outputs": [
    {
     "name": "stdout",
     "output_type": "stream",
     "text": [
      "Failed to initialize steering wheel. Please ensure Logitech G Hub is running and the wheel is connected.\n"
     ]
    }
   ],
   "source": [
    "import time\n",
    "from logidrivepy import LogitechController\n",
    "\n",
    "\n",
    "def apply_vibration(controller, duration=1.0, strength=0.5):\n",
    "    \"\"\"\n",
    "    Applies a constant force feedback effect to the steering wheel.\n",
    "\n",
    "    Args:\n",
    "        controller (LogitechController): The initialized LogitechController object.\n",
    "        duration (float): The duration in seconds to apply the force.\n",
    "        strength (float): The strength of the force, from -1.0 to 1.0.\n",
    "    \"\"\"\n",
    "    # Check if the wheel is connected\n",
    "    if controller.is_connected(0):\n",
    "        print(\n",
    "            f\"Applying constant force with strength {strength} for {duration} seconds...\"\n",
    "        )\n",
    "\n",
    "        # This method applies a constant force to the wheel.\n",
    "        # The first argument is the wheel index (usually 0).\n",
    "        # The second argument is the force strength, from -1.0 to 1.0.\n",
    "        controller.set_constant_force(0, strength)\n",
    "\n",
    "        # Wait for the specified duration\n",
    "        time.sleep(duration)\n",
    "\n",
    "        print(\"Stopping force...\")\n",
    "\n",
    "        # To stop the effect, set the force strength back to 0.0\n",
    "        controller.set_constant_force(0, 0.0)\n",
    "    else:\n",
    "        print(\"Logitech wheel is not connected or not initialized properly.\")\n",
    "\n",
    "\n",
    "def main():\n",
    "    # Initialize the LogitechController object\n",
    "    controller = LogitechController()\n",
    "\n",
    "    # Initialize the steering wheel connection\n",
    "    # Note: This is an important step to link the Python script to the wheel.\n",
    "    initialized = controller.steering_initialize()\n",
    "\n",
    "    if initialized:\n",
    "        print(\"Steering wheel initialized successfully.\")\n",
    "\n",
    "        try:\n",
    "            # Apply a brief vibration\n",
    "            apply_vibration(controller, duration=0.5, strength=0.7)\n",
    "\n",
    "            # Wait a moment before the next action\n",
    "            time.sleep(1)\n",
    "\n",
    "            # You can also apply a negative force to pull the wheel in the other direction\n",
    "            apply_vibration(controller, duration=0.5, strength=-0.7)\n",
    "\n",
    "            # You can create a pulsed \"rumble\" effect with a loop\n",
    "            print(\"\\nCreating a pulsed rumble effect...\")\n",
    "            for _ in range(5):\n",
    "                apply_vibration(controller, duration=0.1, strength=0.8)\n",
    "                time.sleep(0.1)\n",
    "\n",
    "        except Exception as e:\n",
    "            print(f\"An error occurred: {e}\")\n",
    "        finally:\n",
    "            # It's good practice to shut down the connection when you're done\n",
    "            controller.steering_shutdown()\n",
    "            print(\"Steering wheel connection shut down.\")\n",
    "    else:\n",
    "        print(\n",
    "            \"Failed to initialize steering wheel. Please ensure Logitech G Hub is running and the wheel is connected.\"\n",
    "        )\n",
    "\n",
    "\n",
    "if __name__ == \"__main__\":\n",
    "    main()"
   ]
  },
  {
   "cell_type": "code",
   "execution_count": 13,
   "id": "eb002835",
   "metadata": {},
   "outputs": [
    {
     "name": "stdout",
     "output_type": "stream",
     "text": [
      "steering_initialize: False\n",
      "logi_update: False\n",
      "is_connected: False\n"
     ]
    }
   ],
   "source": [
    "from logidrivepy import LogitechController\n",
    "\n",
    "controller = LogitechController()\n",
    "\n",
    "print(f\"steering_initialize: {controller.steering_initialize()}\")\n",
    "print(f\"logi_update: {controller.logi_update()}\")\n",
    "print(f\"is_connected: {controller.is_connected(0)}\")\n",
    "\n",
    "controller.steering_shutdown()"
   ]
  },
  {
   "cell_type": "code",
   "execution_count": 14,
   "id": "51d17440",
   "metadata": {},
   "outputs": [
    {
     "ename": "ModuleNotFoundError",
     "evalue": "No module named 'evdev'",
     "output_type": "error",
     "traceback": [
      "\u001b[31m---------------------------------------------------------------------------\u001b[39m",
      "\u001b[31mModuleNotFoundError\u001b[39m                       Traceback (most recent call last)",
      "\u001b[36mCell\u001b[39m\u001b[36m \u001b[39m\u001b[32mIn[14]\u001b[39m\u001b[32m, line 1\u001b[39m\n\u001b[32m----> \u001b[39m\u001b[32m1\u001b[39m \u001b[38;5;28;01mimport\u001b[39;00m\u001b[38;5;250m \u001b[39m\u001b[34;01mevdev\u001b[39;00m\n",
      "\u001b[31mModuleNotFoundError\u001b[39m: No module named 'evdev'"
     ]
    }
   ],
   "source": [
    "import evdev"
   ]
  },
  {
   "cell_type": "code",
   "execution_count": 16,
   "id": "01bb54f6",
   "metadata": {},
   "outputs": [
    {
     "name": "stdout",
     "output_type": "stream",
     "text": [
      "Collecting pywinusb\n",
      "  Downloading pywinusb-0.4.2.zip (61 kB)\n",
      "  Installing build dependencies: started\n",
      "  Installing build dependencies: finished with status 'done'\n",
      "  Getting requirements to build wheel: started\n",
      "  Getting requirements to build wheel: finished with status 'done'\n",
      "  Preparing metadata (pyproject.toml): started\n",
      "  Preparing metadata (pyproject.toml): finished with status 'done'\n",
      "Building wheels for collected packages: pywinusb\n",
      "  Building wheel for pywinusb (pyproject.toml): started\n",
      "  Building wheel for pywinusb (pyproject.toml): finished with status 'done'\n",
      "  Created wheel for pywinusb: filename=pywinusb-0.4.2-py3-none-any.whl size=43496 sha256=e2944c9c732632772db4f8d821c3301121ad637113b92b0b9b638e2cd190338a\n",
      "  Stored in directory: c:\\users\\pasupuleti\\appdata\\local\\pip\\cache\\wheels\\6d\\02\\90\\c29d9f821a6c599cfaca3326782d67a7dfe93d47e4102c929a\n",
      "Successfully built pywinusb\n",
      "Installing collected packages: pywinusb\n",
      "Successfully installed pywinusb-0.4.2\n",
      "Note: you may need to restart the kernel to use updated packages.\n"
     ]
    }
   ],
   "source": [
    "pip install pywinusb"
   ]
  },
  {
   "cell_type": "code",
   "execution_count": 18,
   "id": "d0066023",
   "metadata": {},
   "outputs": [],
   "source": [
    "import pywinusb.hid as hid\n",
    "\n",
    "\n",
    "def sample_handler(data):\n",
    "    print(\"Received: {0}\".format(data))\n",
    "\n",
    "\n",
    "# open the first HID device\n",
    "all_devices = hid.HidDeviceFilter().get_devices()"
   ]
  },
  {
   "cell_type": "code",
   "execution_count": 19,
   "id": "221c2448",
   "metadata": {},
   "outputs": [
    {
     "data": {
      "text/plain": [
       "[HID device (vID=0x06cb, pID=0xcec7, v=0x1002); Microsoft; HIDI2C Device, Path: \\\\?\\hid#syna801b&col04#5&1688ed62&0&0003#{4d1e55b2-f16f-11cf-88cb-001111000030},\n",
       " HID device (vID=0x8087, pID=0x0a1e, v=0x0200); Unknown manufacturer; @input.inf,%hid_device_system_control%;HID-compliant system controller, Path: \\\\?\\hid#intc816&col02#3&2361649&0&0001#{4d1e55b2-f16f-11cf-88cb-001111000030},\n",
       " HID device (vID=0x06cb, pID=0xcec7, v=0x1002); Microsoft; HIDI2C Device, Path: \\\\?\\hid#syna801b&col03#5&1688ed62&0&0002#{4d1e55b2-f16f-11cf-88cb-001111000030},\n",
       " HID device (vID=0x046d, pID=0xc24f, v=0x6400); Logitech; G29 Driving Force Racing Wheel, Path: \\\\?\\hid#vid_046d&pid_c24f&mi_01&col01#7&f048e3d&0&0000#{4d1e55b2-f16f-11cf-88cb-001111000030},\n",
       " HID device (vID=0x046d, pID=0xc24f, v=0x6400); Logitech; G29 Driving Force Racing Wheel, Path: \\\\?\\hid#vid_046d&pid_c24f&mi_01&col02#7&f048e3d&0&0001#{4d1e55b2-f16f-11cf-88cb-001111000030},\n",
       " HID device (vID=0x046d, pID=0xc24f, v=0x6400); Logitech; G29 Driving Force Racing Wheel, Path: \\\\?\\hid#vid_046d&pid_c24f&mi_00#7&2234aa7b&0&0000#{4d1e55b2-f16f-11cf-88cb-001111000030}]"
      ]
     },
     "execution_count": 19,
     "metadata": {},
     "output_type": "execute_result"
    }
   ],
   "source": [
    "all_devices"
   ]
  },
  {
   "cell_type": "code",
   "execution_count": 20,
   "id": "f575492e",
   "metadata": {},
   "outputs": [],
   "source": [
    "import pywinusb.hid as hid\n",
    "\n",
    "# Filter for Logitech G29 (vendor_id=0x046d, product_id=0xc24f)\n",
    "filter = hid.HidDeviceFilter(vendor_id=0x046D, product_id=0xC24F)\n",
    "devices = filter.get_devices()\n",
    "if not devices:\n",
    "    raise RuntimeError(\"G29 not found\")\n",
    "device = devices[0]\n",
    "device.open()"
   ]
  },
  {
   "cell_type": "code",
   "execution_count": 21,
   "id": "f2bda519",
   "metadata": {},
   "outputs": [
    {
     "data": {
      "text/plain": [
       "[HID device (vID=0x046d, pID=0xc24f, v=0x6400); Logitech; G29 Driving Force Racing Wheel, Path: \\\\?\\hid#vid_046d&pid_c24f&mi_01&col01#7&f048e3d&0&0000#{4d1e55b2-f16f-11cf-88cb-001111000030},\n",
       " HID device (vID=0x046d, pID=0xc24f, v=0x6400); Logitech; G29 Driving Force Racing Wheel, Path: \\\\?\\hid#vid_046d&pid_c24f&mi_01&col02#7&f048e3d&0&0001#{4d1e55b2-f16f-11cf-88cb-001111000030},\n",
       " HID device (vID=0x046d, pID=0xc24f, v=0x6400); Logitech; G29 Driving Force Racing Wheel, Path: \\\\?\\hid#vid_046d&pid_c24f&mi_00#7&2234aa7b&0&0000#{4d1e55b2-f16f-11cf-88cb-001111000030}]"
      ]
     },
     "execution_count": 21,
     "metadata": {},
     "output_type": "execute_result"
    }
   ],
   "source": [
    "devices"
   ]
  },
  {
   "cell_type": "code",
   "execution_count": 22,
   "id": "2cd5f3d8",
   "metadata": {},
   "outputs": [
    {
     "name": "stdout",
     "output_type": "stream",
     "text": [
      "Found 1 output reports\n"
     ]
    }
   ],
   "source": [
    "# Output reports are used to send force-feedback commands\n",
    "output_reports = device.find_output_reports()\n",
    "print(f\"Found {len(output_reports)} output reports\")\n",
    "report = output_reports[0]  # Usually first one works"
   ]
  },
  {
   "cell_type": "code",
   "execution_count": null,
   "id": "3afe3292",
   "metadata": {},
   "outputs": [],
   "source": []
  },
  {
   "cell_type": "code",
   "execution_count": null,
   "id": "bd3d26d8",
   "metadata": {},
   "outputs": [],
   "source": []
  }
 ],
 "metadata": {
  "kernelspec": {
   "display_name": ".venv",
   "language": "python",
   "name": "python3"
  },
  "language_info": {
   "codemirror_mode": {
    "name": "ipython",
    "version": 3
   },
   "file_extension": ".py",
   "mimetype": "text/x-python",
   "name": "python",
   "nbconvert_exporter": "python",
   "pygments_lexer": "ipython3",
   "version": "3.12.0"
  }
 },
 "nbformat": 4,
 "nbformat_minor": 5
}
