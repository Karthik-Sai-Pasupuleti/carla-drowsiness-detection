{
 "cells": [
  {
   "cell_type": "code",
   "execution_count": null,
   "id": "3a4d1267",
   "metadata": {},
   "outputs": [],
   "source": [
    "import numpy as np\n",
    "import scipy.signal as signal\n",
    "\n",
    "def calculate_steering_reversal_rate(theta, fs, theta_min_deg=1.0, fLP=1.0):\n",
    "    \"\"\"\n",
    "    Calculate the steering wheel reversal rate from a steering angle signal.\n",
    "\n",
    "    Parameters:\n",
    "    - theta: np.array, raw steering wheel angle signal (in degrees)\n",
    "    - fs: int, sampling frequency in Hz\n",
    "    - theta_min_deg: float, minimum angle difference to count as a reversal\n",
    "    - fLP: float, low-pass filter cutoff frequency in Hz\n",
    "\n",
    "    Returns:\n",
    "    - reversal_rate: float, number of reversals per minute\n",
    "    - total_reversals: int, total number of reversals\n",
    "    \"\"\"\n",
    "    # Step 1: Low-pass filter\n",
    "    b, a = signal.butter(N=2, Wn=fLP / (fs / 2), btype=\"low\")\n",
    "    theta_filtered = signal.filtfilt(b, a, theta)\n",
    "\n",
    "    def find_stationary_points(signal_data):\n",
    "        diff = np.diff(signal_data)\n",
    "        stationary = []\n",
    "        for i in range(1, len(diff)):\n",
    "            if diff[i - 1] == 0 or np.sign(diff[i - 1]) != np.sign(diff[i]):\n",
    "                stationary.append(i)\n",
    "        return stationary\n",
    "\n",
    "    def count_reversals(signal_data, stationary_points, theta_min):\n",
    "        reversals = []\n",
    "        k = 0\n",
    "        for l in range(1, len(stationary_points)):\n",
    "            i_k = stationary_points[k]\n",
    "            i_l = stationary_points[l]\n",
    "            if signal_data[i_l] - signal_data[i_k] >= theta_min:\n",
    "                reversals.append((i_k, i_l))\n",
    "                k = l\n",
    "            elif signal_data[i_l] < signal_data[i_k]:\n",
    "                k = l\n",
    "        return reversals\n",
    "\n",
    "    # Step 2: Find stationary points\n",
    "    stationary_up = find_stationary_points(theta_filtered)\n",
    "    stationary_down = find_stationary_points(-theta_filtered)\n",
    "\n",
    "    # Step 3: Count reversals\n",
    "    reversals_up = count_reversals(theta_filtered, stationary_up, theta_min_deg)\n",
    "    reversals_down = count_reversals(-theta_filtered, stationary_down, theta_min_deg)\n",
    "\n",
    "    # Step 4: Calculate reversal rate\n",
    "    total_reversals = len(reversals_up) + len(reversals_down)\n",
    "    duration_minutes = len(theta) / fs / 60\n",
    "    reversal_rate = total_reversals / duration_minutes\n",
    "\n",
    "    return reversal_rate, total_reversals"
   ]
  },
  {
   "cell_type": "code",
   "execution_count": 6,
   "id": "9c75f902",
   "metadata": {},
   "outputs": [
    {
     "data": {
      "text/plain": [
       "np.int64(-1)"
      ]
     },
     "execution_count": 6,
     "metadata": {},
     "output_type": "execute_result"
    }
   ],
   "source": [
    "import numpy as np\n",
    "np.sign(-10)"
   ]
  },
  {
   "cell_type": "code",
   "execution_count": 5,
   "id": "8bffe22d",
   "metadata": {},
   "outputs": [
    {
     "ename": "ValueError",
     "evalue": "Digital filter critical frequencies must be 0 < Wn < 1",
     "output_type": "error",
     "traceback": [
      "\u001b[31m---------------------------------------------------------------------------\u001b[39m",
      "\u001b[31mValueError\u001b[39m                                Traceback (most recent call last)",
      "\u001b[36mCell\u001b[39m\u001b[36m \u001b[39m\u001b[32mIn[5]\u001b[39m\u001b[32m, line 86\u001b[39m\n\u001b[32m     83\u001b[39m sampling_rate = \u001b[32m1\u001b[39m  \u001b[38;5;66;03m# 1 Hz sampling (1 sample per second)\u001b[39;00m\n\u001b[32m     84\u001b[39m gap_size = \u001b[32m1\u001b[39m  \u001b[38;5;66;03m# 1 degree gap size\u001b[39;00m\n\u001b[32m---> \u001b[39m\u001b[32m86\u001b[39m srr, count = \u001b[43msteering_wheel_reversal_rate\u001b[49m\u001b[43m(\u001b[49m\u001b[43mtheta_example\u001b[49m\u001b[43m,\u001b[49m\u001b[43m \u001b[49m\u001b[43msampling_rate\u001b[49m\u001b[43m,\u001b[49m\u001b[43m \u001b[49m\u001b[43mgap_size\u001b[49m\u001b[43m)\u001b[49m\n\u001b[32m     87\u001b[39m \u001b[38;5;28mprint\u001b[39m(\u001b[33mf\u001b[39m\u001b[33m\"\u001b[39m\u001b[33mSteering Wheel Reversal Rate: \u001b[39m\u001b[38;5;132;01m{\u001b[39;00msrr\u001b[38;5;132;01m:\u001b[39;00m\u001b[33m.2f\u001b[39m\u001b[38;5;132;01m}\u001b[39;00m\u001b[33m reversals per minute\u001b[39m\u001b[33m\"\u001b[39m)\n\u001b[32m     88\u001b[39m \u001b[38;5;28mprint\u001b[39m(\u001b[33mf\u001b[39m\u001b[33m\"\u001b[39m\u001b[33mTotal reversals detected: \u001b[39m\u001b[38;5;132;01m{\u001b[39;00mcount\u001b[38;5;132;01m}\u001b[39;00m\u001b[33m\"\u001b[39m)\n",
      "\u001b[36mCell\u001b[39m\u001b[36m \u001b[39m\u001b[32mIn[5]\u001b[39m\u001b[32m, line 25\u001b[39m, in \u001b[36msteering_wheel_reversal_rate\u001b[39m\u001b[34m(theta, sampling_rate, gap_size_deg, cutoff_freq_hz, filter_order)\u001b[39m\n\u001b[32m     23\u001b[39m nyquist_freq = \u001b[32m0.5\u001b[39m * sampling_rate\n\u001b[32m     24\u001b[39m normal_cutoff = cutoff_freq_hz / nyquist_freq\n\u001b[32m---> \u001b[39m\u001b[32m25\u001b[39m b, a = \u001b[43mbutter\u001b[49m\u001b[43m(\u001b[49m\u001b[43mfilter_order\u001b[49m\u001b[43m,\u001b[49m\u001b[43m \u001b[49m\u001b[43mnormal_cutoff\u001b[49m\u001b[43m,\u001b[49m\u001b[43m \u001b[49m\u001b[43mbtype\u001b[49m\u001b[43m=\u001b[49m\u001b[33;43m\"\u001b[39;49m\u001b[33;43mlow\u001b[39;49m\u001b[33;43m\"\u001b[39;49m\u001b[43m,\u001b[49m\u001b[43m \u001b[49m\u001b[43manalog\u001b[49m\u001b[43m=\u001b[49m\u001b[38;5;28;43;01mFalse\u001b[39;49;00m\u001b[43m)\u001b[49m\n\u001b[32m     26\u001b[39m theta_filtered = filtfilt(b, a, theta)\n\u001b[32m     28\u001b[39m \u001b[38;5;66;03m# Step 2: Find stationary points (zeros or sign changes in first derivative)\u001b[39;00m\n",
      "\u001b[36mFile \u001b[39m\u001b[32m~/carla-drowsiness-detection/.venv/lib/python3.12/site-packages/scipy/signal/_filter_design.py:3475\u001b[39m, in \u001b[36mbutter\u001b[39m\u001b[34m(N, Wn, btype, analog, output, fs)\u001b[39m\n\u001b[32m   3354\u001b[39m \u001b[38;5;28;01mdef\u001b[39;00m\u001b[38;5;250m \u001b[39m\u001b[34mbutter\u001b[39m(N, Wn, btype=\u001b[33m'\u001b[39m\u001b[33mlow\u001b[39m\u001b[33m'\u001b[39m, analog=\u001b[38;5;28;01mFalse\u001b[39;00m, output=\u001b[33m'\u001b[39m\u001b[33mba\u001b[39m\u001b[33m'\u001b[39m, fs=\u001b[38;5;28;01mNone\u001b[39;00m):\n\u001b[32m   3355\u001b[39m \u001b[38;5;250m    \u001b[39m\u001b[33;03m\"\"\"\u001b[39;00m\n\u001b[32m   3356\u001b[39m \u001b[33;03m    Butterworth digital and analog filter design.\u001b[39;00m\n\u001b[32m   3357\u001b[39m \n\u001b[32m   (...)\u001b[39m\u001b[32m   3473\u001b[39m \u001b[33;03m    >>> plt.show()\u001b[39;00m\n\u001b[32m   3474\u001b[39m \u001b[33;03m    \"\"\"\u001b[39;00m\n\u001b[32m-> \u001b[39m\u001b[32m3475\u001b[39m     \u001b[38;5;28;01mreturn\u001b[39;00m \u001b[43miirfilter\u001b[49m\u001b[43m(\u001b[49m\u001b[43mN\u001b[49m\u001b[43m,\u001b[49m\u001b[43m \u001b[49m\u001b[43mWn\u001b[49m\u001b[43m,\u001b[49m\u001b[43m \u001b[49m\u001b[43mbtype\u001b[49m\u001b[43m=\u001b[49m\u001b[43mbtype\u001b[49m\u001b[43m,\u001b[49m\u001b[43m \u001b[49m\u001b[43manalog\u001b[49m\u001b[43m=\u001b[49m\u001b[43manalog\u001b[49m\u001b[43m,\u001b[49m\n\u001b[32m   3476\u001b[39m \u001b[43m                     \u001b[49m\u001b[43moutput\u001b[49m\u001b[43m=\u001b[49m\u001b[43moutput\u001b[49m\u001b[43m,\u001b[49m\u001b[43m \u001b[49m\u001b[43mftype\u001b[49m\u001b[43m=\u001b[49m\u001b[33;43m'\u001b[39;49m\u001b[33;43mbutter\u001b[39;49m\u001b[33;43m'\u001b[39;49m\u001b[43m,\u001b[49m\u001b[43m \u001b[49m\u001b[43mfs\u001b[49m\u001b[43m=\u001b[49m\u001b[43mfs\u001b[49m\u001b[43m)\u001b[49m\n",
      "\u001b[36mFile \u001b[39m\u001b[32m~/carla-drowsiness-detection/.venv/lib/python3.12/site-packages/scipy/signal/_filter_design.py:2847\u001b[39m, in \u001b[36miirfilter\u001b[39m\u001b[34m(N, Wn, rp, rs, btype, analog, ftype, output, fs)\u001b[39m\n\u001b[32m   2844\u001b[39m     \u001b[38;5;28;01mif\u001b[39;00m fs \u001b[38;5;129;01mis\u001b[39;00m \u001b[38;5;129;01mnot\u001b[39;00m \u001b[38;5;28;01mNone\u001b[39;00m:\n\u001b[32m   2845\u001b[39m         \u001b[38;5;28;01mraise\u001b[39;00m \u001b[38;5;167;01mValueError\u001b[39;00m(\u001b[33m\"\u001b[39m\u001b[33mDigital filter critical frequencies must \u001b[39m\u001b[33m\"\u001b[39m\n\u001b[32m   2846\u001b[39m                          \u001b[33mf\u001b[39m\u001b[33m\"\u001b[39m\u001b[33mbe 0 < Wn < fs/2 (fs=\u001b[39m\u001b[38;5;132;01m{\u001b[39;00mfs\u001b[38;5;132;01m}\u001b[39;00m\u001b[33m -> fs/2=\u001b[39m\u001b[38;5;132;01m{\u001b[39;00mfs/\u001b[32m2\u001b[39m\u001b[38;5;132;01m}\u001b[39;00m\u001b[33m)\u001b[39m\u001b[33m\"\u001b[39m)\n\u001b[32m-> \u001b[39m\u001b[32m2847\u001b[39m     \u001b[38;5;28;01mraise\u001b[39;00m \u001b[38;5;167;01mValueError\u001b[39;00m(\u001b[33m\"\u001b[39m\u001b[33mDigital filter critical frequencies \u001b[39m\u001b[33m\"\u001b[39m\n\u001b[32m   2848\u001b[39m                      \u001b[33m\"\u001b[39m\u001b[33mmust be 0 < Wn < 1\u001b[39m\u001b[33m\"\u001b[39m)\n\u001b[32m   2849\u001b[39m fs = \u001b[32m2.0\u001b[39m\n\u001b[32m   2850\u001b[39m warped = \u001b[32m2\u001b[39m * fs * tan(pi * Wn / fs)\n",
      "\u001b[31mValueError\u001b[39m: Digital filter critical frequencies must be 0 < Wn < 1"
     ]
    }
   ],
   "source": [
    "import numpy as np\n",
    "from scipy.signal import butter, filtfilt\n",
    "\n",
    "\n",
    "def steering_wheel_reversal_rate(\n",
    "    theta, sampling_rate, gap_size_deg, cutoff_freq_hz=0.6, filter_order=2\n",
    "):\n",
    "    \"\"\"\n",
    "    Calculate Steering Wheel Reversal Rate (SRR).\n",
    "\n",
    "    Parameters:\n",
    "    - theta: np.array, steering wheel angle signal (degrees)\n",
    "    - sampling_rate: sampling frequency in Hz (samples per second)\n",
    "    - gap_size_deg: minimum angular gap size in degrees (θ_min)\n",
    "    - cutoff_freq_hz: low-pass Butterworth filter cutoff frequency (Hz), default=0.6 Hz\n",
    "    - filter_order: order of the Butterworth filter, default=2\n",
    "\n",
    "    Returns:\n",
    "    - srr: steering wheel reversal rate in reversals per minute\n",
    "    - reversals_count: total number of reversals detected\n",
    "    \"\"\"\n",
    "    # Step 1: Low-pass filter\n",
    "    nyquist_freq = 0.5 * sampling_rate\n",
    "    normal_cutoff = cutoff_freq_hz / nyquist_freq\n",
    "    b, a = butter(filter_order, normal_cutoff, btype=\"low\", analog=False)\n",
    "    theta_filtered = filtfilt(b, a, theta)\n",
    "\n",
    "    # Step 2: Find stationary points (zeros or sign changes in first derivative)\n",
    "    theta_diff = np.diff(theta_filtered)\n",
    "    sign_diff = np.sign(theta_diff)\n",
    "\n",
    "    # Apply sign change detection: stationary points where sign changes or derivative is zero\n",
    "    stationary_indices = []\n",
    "    # Include first point as possible stationary point\n",
    "    stationary_indices.append(0)\n",
    "\n",
    "    for i in range(1, len(sign_diff)):\n",
    "        # Sign change between i-1 and i?\n",
    "        if sign_diff[i] != sign_diff[i - 1]:\n",
    "            stationary_indices.append(i)\n",
    "    # Also include last point\n",
    "    stationary_indices.append(len(theta_filtered) - 1)\n",
    "\n",
    "    stationary_indices = sorted(set(stationary_indices))  # unique and sorted\n",
    "\n",
    "    # Stationary points values\n",
    "    e = np.array(stationary_indices)\n",
    "    theta_sp = theta_filtered[e]\n",
    "\n",
    "    def count_upward_reversals(theta_vals, gap):\n",
    "        k = 0\n",
    "        Nr = 0\n",
    "        R = []\n",
    "        N = len(theta_vals)\n",
    "        for l in range(1, N):\n",
    "            if theta_vals[l] - theta_vals[k] >= gap:\n",
    "                Nr += 1\n",
    "                R.append((k, l))\n",
    "                k = l\n",
    "            elif theta_vals[l] < theta_vals[k]:\n",
    "                k = l\n",
    "        return Nr, R\n",
    "\n",
    "    # Step 3: Count upward reversals\n",
    "    Nr_up, R_up = count_upward_reversals(theta_sp, gap_size_deg)\n",
    "    # Count downward reversals on negative signal\n",
    "    Nr_down, R_down = count_upward_reversals(-theta_sp, gap_size_deg)\n",
    "\n",
    "    # Total reversals\n",
    "    total_reversals = Nr_up + Nr_down\n",
    "\n",
    "    # Step 4: Calculate reversal rate (per minute)\n",
    "    total_duration_min = len(theta) / sampling_rate / 60.0\n",
    "    srr = total_reversals / total_duration_min if total_duration_min > 0 else 0\n",
    "\n",
    "    return srr, total_reversals\n",
    "\n",
    "\n",
    "# Example usage:\n",
    "if __name__ == \"__main__\":\n",
    "    # Sample data: simulated steering wheel angles (degrees)\n",
    "    theta_example = np.array([0, 1, 2, 1, 0, -1, -2, -1, 0, 1, 0, -1])\n",
    "    sampling_rate = 1  # 1 Hz sampling (1 sample per second)\n",
    "    gap_size = 1  # 1 degree gap size\n",
    "\n",
    "    srr, count = steering_wheel_reversal_rate(theta_example, sampling_rate, gap_size)\n",
    "    print(f\"Steering Wheel Reversal Rate: {srr:.2f} reversals per minute\")\n",
    "    print(f\"Total reversals detected: {count}\")"
   ]
  },
  {
   "cell_type": "code",
   "execution_count": 15,
   "id": "3bbb405e",
   "metadata": {},
   "outputs": [],
   "source": [
    "def stationary_points_fn(theta: np.array) -> np.array:\n",
    "    \"\"\"stationary points\n",
    "\n",
    "    Args:\n",
    "        theta (np.array): filtered steering angles array\n",
    "\n",
    "    Returns:\n",
    "        np.array: stationary points\n",
    "    \"\"\"\n",
    "\n",
    "    # calculate the differnce\n",
    "    theta_diff = np.diff(theta)\n",
    "    sign_diff = np.sign(theta_diff)\n",
    "    sign_diff = np.insert(sign_diff, 0, 0)\n",
    "\n",
    "    stationary_idx = []\n",
    "\n",
    "    for i in range(1, len(sign_diff)):\n",
    "        if sign_diff[i] != sign_diff[i + 1]:\n",
    "            stationary_idx.append(i)\n",
    "\n",
    "    return np.array(stationary_idx)"
   ]
  },
  {
   "cell_type": "code",
   "execution_count": 16,
   "id": "51eae2f7",
   "metadata": {},
   "outputs": [],
   "source": [
    "theta_filtered = np.array([1,5,-2,-2,0,1,10])\n",
    "\n",
    "theta_diff = np.diff(theta_filtered)\n",
    "sign_diff = np.sign(theta_diff)\n",
    "sign_diff = np.insert(sign_diff, 0, 0)\n",
    "\n",
    "# Apply sign change detection: stationary points where sign changes or derivative is zero\n",
    "stationary_indices = []\n",
    "\n",
    "for i in range(1, len(sign_diff)):\n",
    "    # Sign change between i-1 and i?\n",
    "    if sign_diff[i] != sign_diff[i - 1]:\n",
    "        stationary_indices.append(i)"
   ]
  },
  {
   "cell_type": "code",
   "execution_count": 17,
   "id": "b342e699",
   "metadata": {},
   "outputs": [
    {
     "data": {
      "text/plain": [
       "[1, 2, 3, 4]"
      ]
     },
     "execution_count": 17,
     "metadata": {},
     "output_type": "execute_result"
    }
   ],
   "source": [
    "stationary_indices"
   ]
  },
  {
   "cell_type": "code",
   "execution_count": 18,
   "id": "e3aaccd3",
   "metadata": {},
   "outputs": [],
   "source": [
    "def count_reversals(signal_data, stationary_points, theta_min):\n",
    "    reversals = []\n",
    "    k = 0\n",
    "    for l in range(1, len(stationary_points)):\n",
    "        i_k = stationary_points[k]\n",
    "        i_l = stationary_points[l]\n",
    "        if signal_data[i_l] - signal_data[i_k] >= theta_min:\n",
    "            reversals.append((i_k, i_l))\n",
    "            k = l\n",
    "        elif signal_data[i_l] < signal_data[i_k]:\n",
    "            k = l\n",
    "    return reversals"
   ]
  },
  {
   "cell_type": "code",
   "execution_count": 42,
   "id": "73982808",
   "metadata": {},
   "outputs": [
    {
     "name": "stdout",
     "output_type": "stream",
     "text": [
      "[ 0 -1  1 -1  1 -1 -1]\n",
      "1\n",
      "2\n",
      "3\n",
      "4\n",
      "5\n"
     ]
    }
   ],
   "source": [
    "def stationary_points_fn(theta: np.array) -> np.array:\n",
    "    \"\"\"stationary points\n",
    "\n",
    "    Args:\n",
    "        theta (np.array): filtered steering angles array\n",
    "\n",
    "    Returns:\n",
    "        np.array: stationary points\n",
    "    \"\"\"\n",
    "\n",
    "    # calculate the differnce\n",
    "    theta_diff = np.diff(theta)\n",
    "    sign_diff = np.sign(theta_diff)\n",
    "    sign_diff = np.insert(sign_diff, 0, 0)\n",
    "    print(sign_diff)\n",
    "    stationary_idx = []\n",
    "\n",
    "    for i in range(1, len(sign_diff)-1):\n",
    "        print(i)\n",
    "        if sign_diff[i] != sign_diff[i + 1]:\n",
    "            stationary_idx.append(i)\n",
    "\n",
    "    return np.array(stationary_idx)\n",
    "\n",
    "\n",
    "# Sample steering angle signal (length 10)\n",
    "signal_data = [3, 2, 5, 3, 8, -1, -4]\n",
    "\n",
    "# Sample stationary points indices (must be sorted and within range)\n",
    "# For example, detected at indices where the derivative changes sign, including start and end\n",
    "stationary_points_list = stationary_points_fn(np.array(signal_data))\n",
    "\n",
    "# Minimum gap size for reversal detection\n",
    "theta_min = 0.1"
   ]
  },
  {
   "cell_type": "code",
   "execution_count": 43,
   "id": "0ab93518",
   "metadata": {},
   "outputs": [
    {
     "data": {
      "text/plain": [
       "[(np.int64(1), np.int64(2)), (np.int64(3), np.int64(4))]"
      ]
     },
     "execution_count": 43,
     "metadata": {},
     "output_type": "execute_result"
    }
   ],
   "source": [
    "count_reversals(signal_data, stationary_points_list, theta_min)"
   ]
  },
  {
   "cell_type": "code",
   "execution_count": 44,
   "id": "43452093",
   "metadata": {},
   "outputs": [
    {
     "data": {
      "text/plain": [
       "array([1, 2, 3, 4])"
      ]
     },
     "execution_count": 44,
     "metadata": {},
     "output_type": "execute_result"
    }
   ],
   "source": [
    "stationary_points_list"
   ]
  },
  {
   "cell_type": "code",
   "execution_count": 52,
   "id": "208f155d",
   "metadata": {},
   "outputs": [],
   "source": [
    "x = np.array([3,6,3,2,4,0,-1,-2,2])\n",
    "diff_array = np.diff(x)\n",
    "upd_diff = np.insert(diff_array, 0, 0)\n",
    "\n",
    "sign_diff = np.sign(upd_diff)"
   ]
  },
  {
   "cell_type": "code",
   "execution_count": 53,
   "id": "d96fde50",
   "metadata": {},
   "outputs": [
    {
     "name": "stdout",
     "output_type": "stream",
     "text": [
      "[ 3 -3 -1  2 -4 -1 -1  4]\n",
      "[ 0  3 -3 -1  2 -4 -1 -1  4]\n"
     ]
    }
   ],
   "source": [
    "print(diff_array)\n",
    "print(upd_diff)"
   ]
  },
  {
   "cell_type": "code",
   "execution_count": 58,
   "id": "cb5a4fd2",
   "metadata": {},
   "outputs": [],
   "source": [
    "stationary_idx = []\n",
    "for i in range(1, len(sign_diff)-1):\n",
    "    diff = abs(sign_diff[i] - sign_diff[i + 1])\n",
    "    if diff == 2:\n",
    "        stationary_idx.append(i)"
   ]
  },
  {
   "cell_type": "code",
   "execution_count": 56,
   "id": "11bb2c6f",
   "metadata": {},
   "outputs": [
    {
     "data": {
      "text/plain": [
       "[1, 3, 4, 7]"
      ]
     },
     "execution_count": 56,
     "metadata": {},
     "output_type": "execute_result"
    }
   ],
   "source": [
    "stationary_idx"
   ]
  },
  {
   "cell_type": "code",
   "execution_count": 59,
   "id": "a70a8c99",
   "metadata": {},
   "outputs": [],
   "source": [
    "def count_reversals(signal_data, stationary_points, theta_min):\n",
    "    reversals = []\n",
    "    k = 0\n",
    "    for l in range(1, len(stationary_points)):\n",
    "        i_k = stationary_points[k]\n",
    "        i_l = stationary_points[l]\n",
    "        if signal_data[i_l] - signal_data[i_k] >= theta_min:\n",
    "            reversals.append((i_k, i_l))\n",
    "            k = l\n",
    "        elif signal_data[i_l] < signal_data[i_k]:\n",
    "            k = l\n",
    "    return reversals"
   ]
  },
  {
   "cell_type": "code",
   "execution_count": 65,
   "id": "cd4bb6a3",
   "metadata": {},
   "outputs": [
    {
     "data": {
      "text/plain": [
       "[(3, 4)]"
      ]
     },
     "execution_count": 65,
     "metadata": {},
     "output_type": "execute_result"
    }
   ],
   "source": [
    "output = count_reversals(x, stationary_idx, 1)\n",
    "output"
   ]
  },
  {
   "cell_type": "code",
   "execution_count": 70,
   "id": "e975fdf1",
   "metadata": {},
   "outputs": [
    {
     "name": "stdout",
     "output_type": "stream",
     "text": [
      "Stationary points indices: [0, 1, 3, 4, 7, 8]\n",
      "Stationary points values: [ 3  6  2  4 -2  2]\n"
     ]
    }
   ],
   "source": [
    "import numpy as np\n",
    "\n",
    "\n",
    "def count_upward_reversals(theta_vals, gap):\n",
    "    k = 0\n",
    "    Nr = 0\n",
    "    R = []\n",
    "    N = len(theta_vals)\n",
    "    for l in range(1, N):\n",
    "        if theta_vals[l] - theta_vals[k] >= gap:\n",
    "            Nr += 1\n",
    "            R.append((k, l))\n",
    "            k = l\n",
    "        elif theta_vals[l] < theta_vals[k]:\n",
    "            k = l\n",
    "    return Nr, R\n",
    "\n",
    "\n",
    "x = np.array([3, 6, 3, 2, 4, 0, -1, -2, 2])\n",
    "\n",
    "# Step 1: Find stationary points roughly - where the derivative changes sign or zero\n",
    "# Calculate discrete derivative\n",
    "diff_x = np.diff(x)\n",
    "sign_diff = np.sign(diff_x)\n",
    "\n",
    "stationary_points = [0]  # include first index\n",
    "\n",
    "for i in range(1, len(sign_diff)):\n",
    "    if sign_diff[i] != sign_diff[i - 1]:\n",
    "        stationary_points.append(i)\n",
    "\n",
    "stationary_points.append(len(x) - 1)  # include last index\n",
    "\n",
    "print(\"Stationary points indices:\", stationary_points)\n",
    "print(\"Stationary points values:\", x[stationary_points])\n",
    "\n",
    "# Set gap size, e.g., 1 degree as threshold\n",
    "theta_min = 1\n",
    "\n",
    "# Calculate upward reversals\n",
    "reversals_up, up = count_upward_reversals(x, theta_min)\n",
    "# print(\"Upward reversals (index pairs):\", reversals_up)\n",
    "# print(\"Upward reversals (values):\", [(x[s], x[e]) for s, e in reversals_up])\n",
    "\n",
    "# To count downward reversals, repeat on negative signal\n",
    "neg_x = -x\n",
    "reversals_down, down = count_upward_reversals(neg_x, theta_min)\n",
    "# print(\"Downward reversals (index pairs):\", reversals_down)\n",
    "# print(\"Downward reversals (values):\", [(x[s], x[e]) for s, e in reversals_down])"
   ]
  },
  {
   "cell_type": "code",
   "execution_count": 71,
   "id": "c55c7243",
   "metadata": {},
   "outputs": [
    {
     "name": "stdout",
     "output_type": "stream",
     "text": [
      "3 [(0, 1), (3, 4), (7, 8)]\n"
     ]
    }
   ],
   "source": [
    "print(reversals_up, up)"
   ]
  },
  {
   "cell_type": "code",
   "execution_count": null,
   "id": "ef57ae85",
   "metadata": {},
   "outputs": [],
   "source": []
  }
 ],
 "metadata": {
  "kernelspec": {
   "display_name": ".venv",
   "language": "python",
   "name": "python3"
  },
  "language_info": {
   "codemirror_mode": {
    "name": "ipython",
    "version": 3
   },
   "file_extension": ".py",
   "mimetype": "text/x-python",
   "name": "python",
   "nbconvert_exporter": "python",
   "pygments_lexer": "ipython3",
   "version": "3.12.3"
  }
 },
 "nbformat": 4,
 "nbformat_minor": 5
}
